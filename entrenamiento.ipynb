{
 "cells": [
  {
   "cell_type": "markdown",
   "id": "3db0bfb3-d743-4eeb-b1c5-b4146e34d391",
   "metadata": {},
   "source": [
    "Mismo código en Colab para entrenamiento más rapido:\n",
    "\n",
    "https://colab.research.google.com/drive/1maWnciGKmD4B1h_X1aSNTiPB1BY6ADUu?usp=sharing"
   ]
  },
  {
   "cell_type": "markdown",
   "id": "00602324",
   "metadata": {},
   "source": [
    "Dependencias"
   ]
  },
  {
   "cell_type": "code",
   "execution_count": null,
   "id": "57f91c73-c931-4680-8a62-fdb05043d813",
   "metadata": {},
   "outputs": [],
   "source": [
    "#!pip install ultralytics\n",
    "from ultralytics import YOLO"
   ]
  },
  {
   "cell_type": "markdown",
   "id": "1bbfd670",
   "metadata": {},
   "source": [
    "Entrenamiento"
   ]
  },
  {
   "cell_type": "code",
   "execution_count": null,
   "id": "818c6bd5",
   "metadata": {},
   "outputs": [],
   "source": [
    "DATASET_PATH = \"/Users/brunoramirez/Desktop/dataset_roboflow/data.yaml\"\n",
    "TAMAÑO_IMG = 640"
   ]
  },
  {
   "cell_type": "code",
   "execution_count": null,
   "id": "797fa4a1",
   "metadata": {},
   "outputs": [],
   "source": [
    "num_epocas = 20\n",
    "modelo = \"n\"\n",
    "\n",
    "!yolo task=detect mode=train model=yolov8{modelo}.pt data={DATASET_PATH} epochs={num_epocas} imgsz={TAMAÑO_IMG}"
   ]
  },
  {
   "cell_type": "markdown",
   "id": "d53b6bcb-a67f-4747-88f0-886ac968fc95",
   "metadata": {},
   "source": [
    "Exportar modelo"
   ]
  },
  {
   "cell_type": "code",
   "execution_count": null,
   "id": "8a6fbcca-3d25-4969-a3ff-036528e8de8d",
   "metadata": {},
   "outputs": [],
   "source": [
    "modelo_dir = \"./runs/detect/train2/weigths/best.pt\"\n",
    "modelo_dest = f\"./modelos/{modelo}/{num_epocas}.pt\"\n",
    "\n",
    "!cp {modelo_dir} {modelo_dest}"
   ]
  }
 ],
 "metadata": {
  "kernelspec": {
   "display_name": "Usr Python3",
   "language": "python",
   "name": "myenv"
  },
  "language_info": {
   "codemirror_mode": {
    "name": "ipython",
    "version": 3
   },
   "file_extension": ".py",
   "mimetype": "text/x-python",
   "name": "python",
   "nbconvert_exporter": "python",
   "pygments_lexer": "ipython3",
   "version": "3.11.7"
  }
 },
 "nbformat": 4,
 "nbformat_minor": 5
}
