{
 "cells": [
  {
   "cell_type": "code",
   "execution_count": null,
   "id": "08760364-5c05-4952-9677-4029bf307e09",
   "metadata": {},
   "outputs": [],
   "source": [
    "from ultralytics import YOLO"
   ]
  },
  {
   "cell_type": "code",
   "execution_count": null,
   "id": "26a40e0a-5319-482b-8e2c-2e2f96511d42",
   "metadata": {},
   "outputs": [],
   "source": [
    "model = YOLO(f\"./modelos_abc_LSM/n/50.pt\")"
   ]
  },
  {
   "cell_type": "code",
   "execution_count": null,
   "id": "c38803d2-8cb5-46f9-8b59-ab9ef383b62e",
   "metadata": {},
   "outputs": [],
   "source": [
    "results = model(source=0, show=True)"
   ]
  }
 ],
 "metadata": {
  "kernelspec": {
   "display_name": "Python 3",
   "language": "python",
   "name": "python3"
  },
  "language_info": {
   "codemirror_mode": {
    "name": "ipython",
    "version": 3
   },
   "file_extension": ".py",
   "mimetype": "text/x-python",
   "name": "python",
   "nbconvert_exporter": "python",
   "pygments_lexer": "ipython3",
   "version": "3.11.7"
  }
 },
 "nbformat": 4,
 "nbformat_minor": 5
}
