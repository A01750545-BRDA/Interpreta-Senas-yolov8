{
 "cells": [
  {
   "cell_type": "markdown",
   "id": "80f9f9b0",
   "metadata": {},
   "source": [
    "Dependencias"
   ]
  },
  {
   "cell_type": "code",
   "execution_count": null,
   "id": "c26f029d-27da-4688-afdc-f77e6449e74b",
   "metadata": {},
   "outputs": [],
   "source": [
    "import cv2 as cv\n",
    "import os\n",
    "import time\n",
    "import uuid"
   ]
  },
  {
   "cell_type": "markdown",
   "id": "be6c583b",
   "metadata": {},
   "source": [
    "Definir clases e imagenes"
   ]
  },
  {
   "cell_type": "code",
   "execution_count": null,
   "id": "0f9b3558-d27e-4ca3-93aa-3cfb53d40baa",
   "metadata": {},
   "outputs": [],
   "source": [
    "IMAGENES_PATH = \"imagenes/recopiladas\""
   ]
  },
  {
   "cell_type": "code",
   "execution_count": null,
   "id": "ebb1ccdc-3da8-4ae7-84b3-5bfd5b5e5edb",
   "metadata": {},
   "outputs": [],
   "source": [
    "clases = [\"a\", \"b\", \"c\", \"d\", \"e\", \"f\", \"g\", \"h\", \"i\", \"l\", \"m\", \"n\", \"o\", \"p\", \"r\", \"s\", \"t\", \"u\", \"v\", \"w\", \"y\"]\n",
    "num_imgs = 15"
   ]
  },
  {
   "cell_type": "markdown",
   "id": "40c605a7",
   "metadata": {},
   "source": [
    "Crear imagenes para base de datos"
   ]
  },
  {
   "cell_type": "code",
   "execution_count": null,
   "id": "82d90f17-64a2-4e29-9325-3c2fd626cf49",
   "metadata": {},
   "outputs": [],
   "source": [
    "for clase in clases:\n",
    "    os.system(f\"mkdir -p {IMAGENES_PATH}\")\n",
    "    cap = cv.VideoCapture(0)\n",
    "    \n",
    "    if not cap.isOpened():\n",
    "        print(\"-- Camara no se pudo abrir --\")\n",
    "        break\n",
    "    \n",
    "    print(f\"\\nRecolectando imagenes para: {clase}\")\n",
    "    \n",
    "    respuesta = str(input(\"Ingresa 0 para cerrar, y cualquier tecla para empezar: \"))\n",
    "    if respuesta == \"0\": \n",
    "        print(\"-- Proceso terminado --\")\n",
    "        cap.release()\n",
    "        break\n",
    "        \n",
    "    print(\"\\n*Recoleccion EMPEZADA*\")\n",
    "    \n",
    "    for img_num in range(num_imgs):\n",
    "        print(img_num, end=\" \")\n",
    "        ret, frame = cap.read()\n",
    "        nom_img = os.path.join(IMAGENES_PATH, clase + \".\" + f\"{str(uuid.uuid1())}.jpg\")\n",
    "        \n",
    "        cv.imwrite(nom_img, frame)\n",
    "        cv.imshow(\"frame\", frame)\n",
    "        time.sleep(0.5)\n",
    "    \n",
    "    print(\"\\n\\n*Recolección ACABADA*\\n\")\n",
    "    \n",
    "    cap.release()"
   ]
  },
  {
   "cell_type": "markdown",
   "id": "4fa06439",
   "metadata": {},
   "source": [
    "Etiquetar imágenes"
   ]
  },
  {
   "cell_type": "markdown",
   "id": "ca1bc9ea",
   "metadata": {},
   "source": [
    "Descargar app 'labelImg'"
   ]
  },
  {
   "cell_type": "code",
   "execution_count": null,
   "id": "49877583",
   "metadata": {},
   "outputs": [],
   "source": [
    "!pip3 install labelImg"
   ]
  },
  {
   "cell_type": "markdown",
   "id": "270d43fa",
   "metadata": {},
   "source": [
    "Traer folder 'labelImg' a este directorio, y correr el siguiente código para abrir app:"
   ]
  },
  {
   "cell_type": "code",
   "execution_count": null,
   "id": "4b9a9a8d-f6b3-45b8-81b5-8261fb2670bb",
   "metadata": {},
   "outputs": [],
   "source": [
    "wd = os.getcwd()\n",
    "os.chdir(\"labelImg\")\n",
    "os.system(\"brew install python3\")\n",
    "os.system(\"pip3 install pipenv\")\n",
    "os.system(\"pipenv run pip install pyqt5==5.15.2 lxml\")\n",
    "os.system(\"pipenv run make qt5py3\")\n",
    "os.system(\"pipenv run python3 labelImg.py\")"
   ]
  },
  {
   "cell_type": "markdown",
   "id": "30b67564",
   "metadata": {},
   "source": [
    "Una vez en la app, seleccionar directorio \"recopiladas\", y escoger directorio dónde se guardarán las anotaciones (puede ser en el mismo).\n",
    "\n",
    "Tips:\n",
    "\n",
    "* Escoger \"autosave\" dentro de la app\n",
    "* Pulsar tecla \"w\" para herramienta de selección\n",
    "\n",
    "Para acabar el proceso, correr:"
   ]
  },
  {
   "cell_type": "code",
   "execution_count": null,
   "id": "a79ec7bb-d848-4211-aae3-bd4db02917d4",
   "metadata": {},
   "outputs": [],
   "source": [
    "os.system(\"pipenv --rm\")   # Cerrar entorno virtual\n",
    "os.system(\"rm Pipfile*\")   # Borrar Pipfile\n",
    "os.chdir(wd)               # Salir del folder labelImg"
   ]
  },
  {
   "cell_type": "markdown",
   "id": "5068f0d6-60cf-4f2f-ad0b-5a162b513ad4",
   "metadata": {},
   "source": [
    "\n",
    "Para crear 'dataset_roboflow' acceder a Roboflow https://roboflow.com/?ref=ultralytics\n",
    "\n",
    "* Subir imágenes\n",
    "* Seleccionar distribucion de entrenamiento, prueba y validación\n",
    "* Descargar dataset para YOLO "
   ]
  }
 ],
 "metadata": {
  "kernelspec": {
   "display_name": "Python 3",
   "language": "python",
   "name": "python3"
  },
  "language_info": {
   "codemirror_mode": {
    "name": "ipython",
    "version": 3
   },
   "file_extension": ".py",
   "mimetype": "text/x-python",
   "name": "python",
   "nbconvert_exporter": "python",
   "pygments_lexer": "ipython3",
   "version": "3.11.7"
  }
 },
 "nbformat": 4,
 "nbformat_minor": 5
}
