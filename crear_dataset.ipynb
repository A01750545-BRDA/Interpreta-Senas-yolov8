{
 "cells": [
  {
   "cell_type": "markdown",
   "id": "80f9f9b0",
   "metadata": {},
   "source": [
    "Dependencias"
   ]
  },
  {
   "cell_type": "code",
   "execution_count": 12,
   "id": "c26f029d-27da-4688-afdc-f77e6449e74b",
   "metadata": {},
   "outputs": [],
   "source": [
    "import cv2 as cv\n",
    "import os\n",
    "import time\n",
    "import uuid"
   ]
  },
  {
   "cell_type": "markdown",
   "id": "be6c583b",
   "metadata": {},
   "source": [
    "Definir clases e imagenes"
   ]
  },
  {
   "cell_type": "code",
   "execution_count": 13,
   "id": "0f9b3558-d27e-4ca3-93aa-3cfb53d40baa",
   "metadata": {},
   "outputs": [],
   "source": [
    "IMAGENES_PATH = \"imagenes/recopiladas\""
   ]
  },
  {
   "cell_type": "code",
   "execution_count": 14,
   "id": "ebb1ccdc-3da8-4ae7-84b3-5bfd5b5e5edb",
   "metadata": {},
   "outputs": [],
   "source": [
    "clases = [\"a\", \"b\", \"c\", \"d\", \"e\", \"f\", \"g\", \"h\", \"i\", \"l\", \"m\", \"n\", \"o\", \"p\", \"r\", \"s\", \"t\", \"u\", \"v\", \"w\", \"y\"]\n",
    "num_imgs = 15"
   ]
  },
  {
   "cell_type": "markdown",
   "id": "40c605a7",
   "metadata": {},
   "source": [
    "Crear imagenes para base de datos"
   ]
  },
  {
   "cell_type": "code",
   "execution_count": 15,
   "id": "82d90f17-64a2-4e29-9325-3c2fd626cf49",
   "metadata": {},
   "outputs": [
    {
     "name": "stdout",
     "output_type": "stream",
     "text": [
      "\n",
      "Recolectando imagenes para: a\n"
     ]
    },
    {
     "name": "stdout",
     "output_type": "stream",
     "text": [
      "Ingresa 0 para cerrar, y cualquier tecla para empezar:  s\n"
     ]
    },
    {
     "name": "stdout",
     "output_type": "stream",
     "text": [
      "\n",
      "*Recoleccion EMPEZADA*\n",
      "0 1 2 3 4 5 6 7 8 9 10 11 12 13 14 \n",
      "\n",
      "*Recolección ACABADA*\n",
      "\n",
      "\n",
      "Recolectando imagenes para: b\n"
     ]
    },
    {
     "name": "stdout",
     "output_type": "stream",
     "text": [
      "Ingresa 0 para cerrar, y cualquier tecla para empezar:  0\n"
     ]
    },
    {
     "name": "stdout",
     "output_type": "stream",
     "text": [
      "-- Proceso terminado --\n"
     ]
    }
   ],
   "source": [
    "for clase in clases:\n",
    "    os.system(f\"mkdir -p {IMAGENES_PATH}\")\n",
    "    cap = cv.VideoCapture(0)\n",
    "    \n",
    "    if not cap.isOpened():\n",
    "        print(\"-- Camara no se pudo abrir --\")\n",
    "        break\n",
    "    \n",
    "    print(f\"\\nRecolectando imagenes para: {clase}\")\n",
    "    \n",
    "    respuesta = str(input(\"Ingresa 0 para cerrar, y cualquier tecla para empezar: \"))\n",
    "    if respuesta == \"0\": \n",
    "        print(\"-- Proceso terminado --\")\n",
    "        cap.release()\n",
    "        break\n",
    "        \n",
    "    print(\"\\n*Recoleccion EMPEZADA*\")\n",
    "    \n",
    "    for img_num in range(num_imgs):\n",
    "        print(img_num, end=\" \")\n",
    "        ret, frame = cap.read()\n",
    "        nom_img = os.path.join(IMAGENES_PATH, clase + \".\" + f\"{str(uuid.uuid1())}.jpg\")\n",
    "        \n",
    "        cv.imwrite(nom_img, frame)\n",
    "        cv.imshow(\"frame\", frame)\n",
    "        time.sleep(0.5)\n",
    "    \n",
    "    print(\"\\n\\n*Recolección ACABADA*\\n\")\n",
    "    \n",
    "    cap.release()"
   ]
  },
  {
   "cell_type": "markdown",
   "id": "4fa06439",
   "metadata": {},
   "source": [
    "Etiquetar imágenes"
   ]
  },
  {
   "cell_type": "markdown",
   "id": "ca1bc9ea",
   "metadata": {},
   "source": [
    "Descargar app 'labelImg'"
   ]
  },
  {
   "cell_type": "code",
   "execution_count": null,
   "id": "49877583",
   "metadata": {},
   "outputs": [],
   "source": [
    "!pip3 install labelImg"
   ]
  },
  {
   "cell_type": "markdown",
   "id": "270d43fa",
   "metadata": {},
   "source": [
    "Traer folder 'labelImg' a este directorio, y correr el siguiente código para abrir app:"
   ]
  },
  {
   "cell_type": "code",
   "execution_count": 7,
   "id": "4b9a9a8d-f6b3-45b8-81b5-8261fb2670bb",
   "metadata": {},
   "outputs": [
    {
     "name": "stderr",
     "output_type": "stream",
     "text": [
      "Warning: python@3.11 3.11.7_1 is already installed and up-to-date.\n",
      "To reinstall 3.11.7_1, run:\n",
      "  brew reinstall python@3.11\n"
     ]
    },
    {
     "name": "stdout",
     "output_type": "stream",
     "text": [
      "Requirement already satisfied: pipenv in /usr/local/lib/python3.11/site-packages (2023.12.0)\n",
      "Requirement already satisfied: certifi in /usr/local/lib/python3.11/site-packages (from pipenv) (2023.7.22)\n",
      "Requirement already satisfied: setuptools>=67 in /usr/local/lib/python3.11/site-packages (from pipenv) (69.0.2)\n",
      "Requirement already satisfied: virtualenv>=20.24.2 in /usr/local/lib/python3.11/site-packages (from pipenv) (20.25.0)\n",
      "Requirement already satisfied: distlib<1,>=0.3.7 in /usr/local/lib/python3.11/site-packages (from virtualenv>=20.24.2->pipenv) (0.3.8)\n",
      "Requirement already satisfied: filelock<4,>=3.12.2 in /usr/local/lib/python3.11/site-packages (from virtualenv>=20.24.2->pipenv) (3.13.1)\n",
      "Requirement already satisfied: platformdirs<5,>=3.9.1 in /usr/local/lib/python3.11/site-packages (from virtualenv>=20.24.2->pipenv) (4.2.0)\n"
     ]
    },
    {
     "name": "stderr",
     "output_type": "stream",
     "text": [
      "Warning: the environment variable LANG is not set!\n",
      "We recommend setting this in ~/.profile (or equivalent) for proper expected behavior.\n",
      "Creating a virtualenv for this project...\n",
      "Pipfile: /Users/brunoramirez/Desktop/DeteccionSeñas/labelImg/Pipfile\n",
      "Using default python from /usr/local/opt/python@3.11/bin/python3.11 (3.11.7) to create virtualenv...\n"
     ]
    },
    {
     "name": "stdout",
     "output_type": "stream",
     "text": [
      "\u001b[2K\u001b[32m⠙\u001b[0m Creating virtual environment.....\n",
      "\u001b[1A\u001b[2K"
     ]
    },
    {
     "name": "stderr",
     "output_type": "stream",
     "text": [
      "created virtual environment CPython3.11.7.final.0-64 in 2656ms\n",
      "  creator CPython3macOsBrew(dest=/Users/brunoramirez/.local/share/virtualenvs/labelImg-RvwKuoH7, clear=False, no_vcs_ignore=False, global=False)\n",
      "  seeder FromAppData(download=False, pip=bundle, setuptools=bundle, wheel=bundle, via=copy, app_data_dir=/Users/brunoramirez/Library/Application Support/virtualenv)\n",
      "    added seed packages: pip==23.3.2, setuptools==69.0.3, wheel==0.42.0\n",
      "  activators BashActivator,CShellActivator,FishActivator,NushellActivator,PowerShellActivator,PythonActivator\n",
      "\n",
      "✔ Successfully created virtual environment!\n",
      "Virtualenv location: /Users/brunoramirez/.local/share/virtualenvs/labelImg-RvwKuoH7\n",
      "\u001b[1mCreating a Pipfile for this project\u001b[0m\u001b[1;33m...\u001b[0m\n"
     ]
    },
    {
     "name": "stdout",
     "output_type": "stream",
     "text": [
      "Collecting pyqt5==5.15.2\n",
      "  Using cached PyQt5-5.15.2-5.15.2-cp35.cp36.cp37.cp38.cp39-abi3-macosx_10_13_intel.whl (47.6 MB)\n",
      "Collecting lxml\n",
      "  Using cached lxml-5.1.0-cp311-cp311-macosx_10_9_x86_64.whl.metadata (3.5 kB)\n",
      "Collecting PyQt5-sip<13,>=12.8 (from pyqt5==5.15.2)\n",
      "  Using cached PyQt5_sip-12.13.0-cp311-cp311-macosx_10_9_universal2.whl.metadata (504 bytes)\n",
      "Using cached lxml-5.1.0-cp311-cp311-macosx_10_9_x86_64.whl (4.7 MB)\n",
      "Using cached PyQt5_sip-12.13.0-cp311-cp311-macosx_10_9_universal2.whl (144 kB)\n",
      "Installing collected packages: PyQt5-sip, lxml, pyqt5\n",
      "Successfully installed PyQt5-sip-12.13.0 lxml-5.1.0 pyqt5-5.15.2\n",
      "pyrcc5 -o libs/resources.py resources.qrc\n"
     ]
    },
    {
     "name": "stderr",
     "output_type": "stream",
     "text": [
      "/Users/brunoramirez/Desktop/DeteccionSeñas/labelImg/labelImg.py:73: DeprecationWarning: sipPyTypeDict() is deprecated, the extension module should use sipPyTypeDictRef() instead\n",
      "  class MainWindow(QMainWindow, WindowMixin):\n",
      "Traceback (most recent call last):\n",
      "  File \"/Users/brunoramirez/Desktop/DeteccionSeñas/labelImg/labelImg.py\", line 1277, in closeEvent\n",
      "    settings.save()\n",
      "  File \"/Users/brunoramirez/Desktop/DeteccionSeñas/labelImg/libs/settings.py\", line 26, in save\n",
      "    pickle.dump(self.data, f, pickle.HIGHEST_PROTOCOL)\n",
      "SystemError: PY_SSIZE_T_CLEAN macro must be defined for '#' formats\n"
     ]
    },
    {
     "data": {
      "text/plain": [
       "6"
      ]
     },
     "execution_count": 7,
     "metadata": {},
     "output_type": "execute_result"
    }
   ],
   "source": [
    "wd = os.getcwd()\n",
    "os.chdir(\"labelImg\")\n",
    "os.system(\"brew install python3\")\n",
    "os.system(\"pip3 install pipenv\")\n",
    "os.system(\"pipenv run pip install pyqt5==5.15.2 lxml\")\n",
    "os.system(\"pipenv run make qt5py3\")\n",
    "os.system(\"pipenv run python3 labelImg.py\")"
   ]
  },
  {
   "cell_type": "markdown",
   "id": "30b67564",
   "metadata": {},
   "source": [
    "Una vez en la app, seleccionar directorio \"recopiladas\", y escoger directorio dónde se guardarán las anotaciones (puede ser en el mismo).\n",
    "\n",
    "Tips:\n",
    "\n",
    "* Escoger \"autosave\" dentro de la app\n",
    "* Pulsar tecla \"w\" para herramienta de selección\n",
    "\n",
    "Para acabar el proceso, correr:"
   ]
  },
  {
   "cell_type": "code",
   "execution_count": 8,
   "id": "a79ec7bb-d848-4211-aae3-bd4db02917d4",
   "metadata": {},
   "outputs": [
    {
     "name": "stdout",
     "output_type": "stream",
     "text": [
      "\u001b[1mRemoving virtualenv\u001b[0m \n",
      "\u001b[1m(\u001b[0m\u001b[32m/Users/brunoramirez/.local/share/virtualenvs/\u001b[0m\u001b[32mlabelImg-RvwKuoH7\u001b[0m\u001b[1;32m)\u001b[0m\u001b[32m...\u001b[0m\n",
      "\u001b[2K\u001b[32m⠸\u001b[0m Running.....\n",
      "\u001b[1A\u001b[2K"
     ]
    }
   ],
   "source": [
    "os.system(\"pipenv --rm\")   # Cerrar entorno virtual\n",
    "os.system(\"rm Pipfile*\")   # Borrar Pipfile\n",
    "os.chdir(wd)               # Salir del folder labelImg"
   ]
  },
  {
   "cell_type": "markdown",
   "id": "5068f0d6-60cf-4f2f-ad0b-5a162b513ad4",
   "metadata": {},
   "source": [
    "\n",
    "Para crear 'dataset_roboflow' acceder a Roboflow https://roboflow.com/?ref=ultralytics\n",
    "\n",
    "* Subir imágenes\n",
    "* Seleccionar distribucion de entrenamiento, prueba y validación\n",
    "* Descargar dataset para YOLO "
   ]
  }
 ],
 "metadata": {
  "kernelspec": {
   "display_name": "Python 3",
   "language": "python",
   "name": "python3"
  },
  "language_info": {
   "codemirror_mode": {
    "name": "ipython",
    "version": 3
   },
   "file_extension": ".py",
   "mimetype": "text/x-python",
   "name": "python",
   "nbconvert_exporter": "python",
   "pygments_lexer": "ipython3",
   "version": "3.11.7"
  }
 },
 "nbformat": 4,
 "nbformat_minor": 5
}
